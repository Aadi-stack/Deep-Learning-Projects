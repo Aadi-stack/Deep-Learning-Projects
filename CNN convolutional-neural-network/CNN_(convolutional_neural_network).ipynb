{
  "nbformat": 4,
  "nbformat_minor": 0,
  "metadata": {
    "colab": {
      "provenance": [],
      "gpuType": "T4"
    },
    "kernelspec": {
      "name": "python3",
      "display_name": "Python 3"
    },
    "language_info": {
      "name": "python"
    },
    "accelerator": "GPU"
  },
  "cells": [
    {
      "cell_type": "markdown",
      "source": [
        "# Import Library\n",
        "\n",
        "![cnn.png](data:image/png;base64,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)"
      ],
      "metadata": {
        "id": "nyVK4KY-U1Ze"
      }
    },
    {
      "cell_type": "code",
      "source": [
        "import tensorflow as tf\n",
        "from tensorflow.keras import datasets,layers,models\n",
        "import matplotlib.pyplot as plt\n",
        "import seaborn as sns\n",
        "import numpy as np"
      ],
      "metadata": {
        "id": "KN3rOfCWUypm"
      },
      "execution_count": 33,
      "outputs": []
    },
    {
      "cell_type": "markdown",
      "source": [
        "# Load Dataset\n",
        "\n",
        "# CIFR10 Dataset\n",
        "\n",
        "![cnnimages.jpg](data:image/jpeg;base64,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)"
      ],
      "metadata": {
        "id": "Azm-eayJUm9s"
      }
    },
    {
      "cell_type": "code",
      "source": [
        "(X_train, y_train), (X_test,y_test) = datasets.cifar10.load_data()\n",
        "X_train.shape"
      ],
      "metadata": {
        "colab": {
          "base_uri": "https://localhost:8080/"
        },
        "id": "qhX3Nm_WOOyf",
        "outputId": "9d41f8fb-66d6-4600-92b2-5887c947098b"
      },
      "execution_count": 2,
      "outputs": [
        {
          "output_type": "stream",
          "name": "stdout",
          "text": [
            "Downloading data from https://www.cs.toronto.edu/~kriz/cifar-10-python.tar.gz\n",
            "170498071/170498071 [==============================] - 13s 0us/step\n"
          ]
        },
        {
          "output_type": "execute_result",
          "data": {
            "text/plain": [
              "(50000, 32, 32, 3)"
            ]
          },
          "metadata": {},
          "execution_count": 2
        }
      ]
    },
    {
      "cell_type": "markdown",
      "source": [
        "# Check shape of a dataset"
      ],
      "metadata": {
        "id": "9SQEp2XIU_pZ"
      }
    },
    {
      "cell_type": "code",
      "source": [
        "X_test.shape"
      ],
      "metadata": {
        "colab": {
          "base_uri": "https://localhost:8080/"
        },
        "id": "YhfZOdk-OigH",
        "outputId": "f90f0d73-154c-45d6-865b-a03ecd9c2b0a"
      },
      "execution_count": 3,
      "outputs": [
        {
          "output_type": "execute_result",
          "data": {
            "text/plain": [
              "(10000, 32, 32, 3)"
            ]
          },
          "metadata": {},
          "execution_count": 3
        }
      ]
    },
    {
      "cell_type": "code",
      "source": [
        "X_train[1]"
      ],
      "metadata": {
        "colab": {
          "base_uri": "https://localhost:8080/"
        },
        "id": "Zcf8aL82OPI6",
        "outputId": "b335dc35-45de-415a-ed36-3c2a1d694a3c"
      },
      "execution_count": 4,
      "outputs": [
        {
          "output_type": "execute_result",
          "data": {
            "text/plain": [
              "array([[[154, 177, 187],\n",
              "        [126, 137, 136],\n",
              "        [105, 104,  95],\n",
              "        ...,\n",
              "        [ 91,  95,  71],\n",
              "        [ 87,  90,  71],\n",
              "        [ 79,  81,  70]],\n",
              "\n",
              "       [[140, 160, 169],\n",
              "        [145, 153, 154],\n",
              "        [125, 125, 118],\n",
              "        ...,\n",
              "        [ 96,  99,  78],\n",
              "        [ 77,  80,  62],\n",
              "        [ 71,  73,  61]],\n",
              "\n",
              "       [[140, 155, 164],\n",
              "        [139, 146, 149],\n",
              "        [115, 115, 112],\n",
              "        ...,\n",
              "        [ 79,  82,  64],\n",
              "        [ 68,  70,  55],\n",
              "        [ 67,  69,  55]],\n",
              "\n",
              "       ...,\n",
              "\n",
              "       [[175, 167, 166],\n",
              "        [156, 154, 160],\n",
              "        [154, 160, 170],\n",
              "        ...,\n",
              "        [ 42,  34,  36],\n",
              "        [ 61,  53,  57],\n",
              "        [ 93,  83,  91]],\n",
              "\n",
              "       [[165, 154, 128],\n",
              "        [156, 152, 130],\n",
              "        [159, 161, 142],\n",
              "        ...,\n",
              "        [103,  93,  96],\n",
              "        [123, 114, 120],\n",
              "        [131, 121, 131]],\n",
              "\n",
              "       [[163, 148, 120],\n",
              "        [158, 148, 122],\n",
              "        [163, 156, 133],\n",
              "        ...,\n",
              "        [143, 133, 139],\n",
              "        [143, 134, 142],\n",
              "        [143, 133, 144]]], dtype=uint8)"
            ]
          },
          "metadata": {},
          "execution_count": 4
        }
      ]
    },
    {
      "cell_type": "code",
      "source": [
        "y_train.shape"
      ],
      "metadata": {
        "colab": {
          "base_uri": "https://localhost:8080/"
        },
        "id": "B5FYHl8xRM7B",
        "outputId": "3a85f5b8-788b-4017-b7e4-6479cbf80600"
      },
      "execution_count": 5,
      "outputs": [
        {
          "output_type": "execute_result",
          "data": {
            "text/plain": [
              "(50000, 1)"
            ]
          },
          "metadata": {},
          "execution_count": 5
        }
      ]
    },
    {
      "cell_type": "markdown",
      "source": [
        "# y_train is a 2D array, for our classification having 1D array is good enough. so we will convert this to now 1D array"
      ],
      "metadata": {
        "id": "BOMEQ2zCVOXT"
      }
    },
    {
      "cell_type": "code",
      "source": [
        "y_train[:5]"
      ],
      "metadata": {
        "colab": {
          "base_uri": "https://localhost:8080/"
        },
        "id": "w6Tu2_d8RIMC",
        "outputId": "c7586042-2d9c-4c8b-8e19-64740b04150b"
      },
      "execution_count": 6,
      "outputs": [
        {
          "output_type": "execute_result",
          "data": {
            "text/plain": [
              "array([[6],\n",
              "       [9],\n",
              "       [9],\n",
              "       [4],\n",
              "       [1]], dtype=uint8)"
            ]
          },
          "metadata": {},
          "execution_count": 6
        }
      ]
    },
    {
      "cell_type": "code",
      "source": [
        "y_train = y_train.reshape(-1,)\n",
        "y_train[:5]"
      ],
      "metadata": {
        "colab": {
          "base_uri": "https://localhost:8080/"
        },
        "id": "jt3v02dORa_Y",
        "outputId": "d05362bf-a621-40b6-f7c1-b4ffc4e13570"
      },
      "execution_count": 7,
      "outputs": [
        {
          "output_type": "execute_result",
          "data": {
            "text/plain": [
              "array([6, 9, 9, 4, 1], dtype=uint8)"
            ]
          },
          "metadata": {},
          "execution_count": 7
        }
      ]
    },
    {
      "cell_type": "code",
      "source": [
        "y_test = y_test.reshape(-1,)"
      ],
      "metadata": {
        "id": "Nhx8kLBpRd6X"
      },
      "execution_count": 8,
      "outputs": []
    },
    {
      "cell_type": "markdown",
      "source": [
        "# plot some images"
      ],
      "metadata": {
        "id": "4JQLGOpbVZCk"
      }
    },
    {
      "cell_type": "code",
      "source": [
        "classes = [\"airplane\",\"automobile\",\"bird\",\"cat\",\"deer\",\"dog\",\"frog\",\"horse\",\"ship\",\"truck\"]"
      ],
      "metadata": {
        "id": "_sMeVF4KRiUY"
      },
      "execution_count": 9,
      "outputs": []
    },
    {
      "cell_type": "code",
      "source": [
        "def plot_sample(X, y, index):\n",
        "    plt.figure(figsize = (15,2))\n",
        "    plt.imshow(X[index])\n",
        "    plt.xlabel(classes[y[index]])"
      ],
      "metadata": {
        "id": "TcK9qzpSOSrZ"
      },
      "execution_count": 10,
      "outputs": []
    },
    {
      "cell_type": "code",
      "source": [
        "plot_sample(X_train, y_train, 0)"
      ],
      "metadata": {
        "colab": {
          "base_uri": "https://localhost:8080/",
          "height": 237
        },
        "id": "7OjRKk5dOTDd",
        "outputId": "273c3a81-4b67-465f-d16b-b0740de0cdc5"
      },
      "execution_count": 11,
      "outputs": [
        {
          "output_type": "display_data",
          "data": {
            "text/plain": [
              "<Figure size 1500x200 with 1 Axes>"
            ],
            "image/png": "[encoded data removed]"
          },
          "metadata": {}
        }
      ]
    },
    {
      "cell_type": "code",
      "source": [
        "plot_sample(X_train, y_train, 1)"
      ],
      "metadata": {
        "colab": {
          "base_uri": "https://localhost:8080/",
          "height": 237
        },
        "id": "-M7XaMzsOTXc",
        "outputId": "7ecc9172-b8fd-40dd-acb0-24e3d9665566"
      },
      "execution_count": 12,
      "outputs": [
        {
          "output_type": "display_data",
          "data": {
            "text/plain": [
              "<Figure size 1500x200 with 1 Axes>"
            ],
            "image/png": "[encoded data removed]"
          },
          "metadata": {}
        }
      ]
    },
    {
      "cell_type": "markdown",
      "source": [
        "Normalize the images to a number from 0 to 1. Image has 3 channels (R,G,B) and each value in the channel can range from 0 to 255. Hence to normalize in 0-->1 range, we need to divide it by 255\n",
        "# Normalizing the training data\n"
      ],
      "metadata": {
        "id": "tSvu2ckVVe-i"
      }
    },
    {
      "cell_type": "code",
      "source": [
        "X_train = X_train / 255.0\n",
        "X_test = X_test / 255.0"
      ],
      "metadata": {
        "id": "fZtijqgJOTsh"
      },
      "execution_count": 13,
      "outputs": []
    },
    {
      "cell_type": "markdown",
      "source": [
        "#  Build simple artificial neural network for image classification\n"
      ],
      "metadata": {
        "id": "wjxrZ-wCVpod"
      }
    },
    {
      "cell_type": "code",
      "source": [
        "ann = models.Sequential([\n",
        "        layers.Flatten(input_shape=(32,32,3)),\n",
        "        layers.Dense(3000, activation='relu'),\n",
        "        layers.Dense(1000, activation='relu'),\n",
        "        layers.Dense(10, activation='softmax')\n",
        "    ])\n",
        "\n",
        "ann.compile(optimizer='SGD',\n",
        "              loss='sparse_categorical_crossentropy',\n",
        "              metrics=['accuracy'])\n",
        "\n",
        "ann.fit(X_train, y_train, epochs=5)"
      ],
      "metadata": {
        "colab": {
          "base_uri": "https://localhost:8080/"
        },
        "id": "Pe37Ei6lOUBX",
        "outputId": "9ff08ba2-85da-44ee-c230-244fb19cd645"
      },
      "execution_count": 14,
      "outputs": [
        {
          "output_type": "stream",
          "name": "stdout",
          "text": [
            "Epoch 1/5\n",
            "1563/1563 [==============================] - 11s 4ms/step - loss: 1.8111 - accuracy: 0.3534\n",
            "Epoch 2/5\n",
            "1563/1563 [==============================] - 6s 4ms/step - loss: 1.6236 - accuracy: 0.4276\n",
            "Epoch 3/5\n",
            "1563/1563 [==============================] - 7s 4ms/step - loss: 1.5414 - accuracy: 0.4568\n",
            "Epoch 4/5\n",
            "1563/1563 [==============================] - 6s 4ms/step - loss: 1.4812 - accuracy: 0.4794\n",
            "Epoch 5/5\n",
            "1563/1563 [==============================] - 7s 4ms/step - loss: 1.4310 - accuracy: 0.4947\n"
          ]
        },
        {
          "output_type": "execute_result",
          "data": {
            "text/plain": [
              "<keras.callbacks.History at 0x7db2c0349960>"
            ]
          },
          "metadata": {},
          "execution_count": 14
        }
      ]
    },
    {
      "cell_type": "markdown",
      "source": [
        "# You can see that at the end of 5 epochs, accuracy is at around 49%"
      ],
      "metadata": {
        "id": "XkfGws0XVwWO"
      }
    },
    {
      "cell_type": "code",
      "source": [
        "from sklearn.metrics import confusion_matrix , classification_report\n",
        "import numpy as np\n",
        "y_pred = ann.predict(X_test)\n",
        "y_pred_classes = [np.argmax(element) for element in y_pred]\n",
        "\n",
        "print(\"Classification Report: \\n\", classification_report(y_test, y_pred_classes))"
      ],
      "metadata": {
        "colab": {
          "base_uri": "https://localhost:8080/"
        },
        "id": "q99l_xf4OUYb",
        "outputId": "2e19e73a-6ead-4408-f445-dfa5eca7e0f4"
      },
      "execution_count": 15,
      "outputs": [
        {
          "output_type": "stream",
          "name": "stdout",
          "text": [
            "313/313 [==============================] - 1s 2ms/step\n",
            "Classification Report: \n",
            "               precision    recall  f1-score   support\n",
            "\n",
            "           0       0.56      0.51      0.53      1000\n",
            "           1       0.33      0.87      0.48      1000\n",
            "           2       0.37      0.39      0.38      1000\n",
            "           3       0.35      0.27      0.31      1000\n",
            "           4       0.57      0.17      0.27      1000\n",
            "           5       0.35      0.46      0.40      1000\n",
            "           6       0.59      0.43      0.50      1000\n",
            "           7       0.64      0.45      0.53      1000\n",
            "           8       0.61      0.60      0.61      1000\n",
            "           9       0.57      0.34      0.43      1000\n",
            "\n",
            "    accuracy                           0.45     10000\n",
            "   macro avg       0.49      0.45      0.44     10000\n",
            "weighted avg       0.49      0.45      0.44     10000\n",
            "\n"
          ]
        }
      ]
    },
    {
      "cell_type": "markdown",
      "source": [
        "#  Now let us build a convolutional neural network to train our images\n"
      ],
      "metadata": {
        "id": "sR1CJMc5V0Xk"
      }
    },
    {
      "cell_type": "code",
      "source": [
        "cnn = models.Sequential([\n",
        "    layers.Conv2D(filters=32, kernel_size=(3, 3), activation='relu', input_shape=(32, 32, 3)),\n",
        "    layers.MaxPooling2D((2, 2)),\n",
        "\n",
        "    layers.Conv2D(filters=64, kernel_size=(3, 3), activation='relu'),\n",
        "    layers.MaxPooling2D((2, 2)),\n",
        "\n",
        "    layers.Flatten(),\n",
        "    layers.Dense(64, activation='relu'),\n",
        "    layers.Dense(10, activation='softmax')\n",
        "])"
      ],
      "metadata": {
        "id": "6h8lJdewOUhy"
      },
      "execution_count": 16,
      "outputs": []
    },
    {
      "cell_type": "code",
      "source": [
        "cnn.compile(optimizer='adam',\n",
        "              loss='sparse_categorical_crossentropy',\n",
        "              metrics=['accuracy'])"
      ],
      "metadata": {
        "id": "rgm0NRhUR_eQ"
      },
      "execution_count": 17,
      "outputs": []
    },
    {
      "cell_type": "code",
      "source": [
        "cnn.fit(X_train, y_train, epochs=10)"
      ],
      "metadata": {
        "colab": {
          "base_uri": "https://localhost:8080/"
        },
        "id": "DGpCYjjWR_uh",
        "outputId": "6673001d-e9e9-471b-bf6f-371ef2c71a24"
      },
      "execution_count": 18,
      "outputs": [
        {
          "output_type": "stream",
          "name": "stdout",
          "text": [
            "Epoch 1/10\n",
            "1563/1563 [==============================] - 12s 4ms/step - loss: 1.4456 - accuracy: 0.4821\n",
            "Epoch 2/10\n",
            "1563/1563 [==============================] - 6s 4ms/step - loss: 1.1034 - accuracy: 0.6136\n",
            "Epoch 3/10\n",
            "1563/1563 [==============================] - 7s 4ms/step - loss: 0.9742 - accuracy: 0.6610\n",
            "Epoch 4/10\n",
            "1563/1563 [==============================] - 6s 4ms/step - loss: 0.8898 - accuracy: 0.6920\n",
            "Epoch 5/10\n",
            "1563/1563 [==============================] - 6s 4ms/step - loss: 0.8230 - accuracy: 0.7168\n",
            "Epoch 6/10\n",
            "1563/1563 [==============================] - 6s 4ms/step - loss: 0.7685 - accuracy: 0.7330\n",
            "Epoch 7/10\n",
            "1563/1563 [==============================] - 6s 4ms/step - loss: 0.7218 - accuracy: 0.7504\n",
            "Epoch 8/10\n",
            "1563/1563 [==============================] - 6s 4ms/step - loss: 0.6733 - accuracy: 0.7655\n",
            "Epoch 9/10\n",
            "1563/1563 [==============================] - 6s 4ms/step - loss: 0.6358 - accuracy: 0.7777\n",
            "Epoch 10/10\n",
            "1563/1563 [==============================] - 7s 4ms/step - loss: 0.5962 - accuracy: 0.7907\n"
          ]
        },
        {
          "output_type": "execute_result",
          "data": {
            "text/plain": [
              "<keras.callbacks.History at 0x7db24c286b30>"
            ]
          },
          "metadata": {},
          "execution_count": 18
        }
      ]
    },
    {
      "cell_type": "code",
      "source": [
        "cnn.fit(X_train, y_train, epochs=10)"
      ],
      "metadata": {
        "colab": {
          "base_uri": "https://localhost:8080/"
        },
        "id": "bB8V6RtsSHcQ",
        "outputId": "a4f344ec-0c2a-485d-d980-fd21f76dc755"
      },
      "execution_count": 19,
      "outputs": [
        {
          "output_type": "stream",
          "name": "stdout",
          "text": [
            "Epoch 1/10\n",
            "1563/1563 [==============================] - 6s 4ms/step - loss: 0.5648 - accuracy: 0.8007\n",
            "Epoch 2/10\n",
            "1563/1563 [==============================] - 6s 4ms/step - loss: 0.5271 - accuracy: 0.8140\n",
            "Epoch 3/10\n",
            "1563/1563 [==============================] - 6s 4ms/step - loss: 0.5001 - accuracy: 0.8247\n",
            "Epoch 4/10\n",
            "1563/1563 [==============================] - 6s 4ms/step - loss: 0.4708 - accuracy: 0.8338\n",
            "Epoch 5/10\n",
            "1563/1563 [==============================] - 6s 4ms/step - loss: 0.4415 - accuracy: 0.8430\n",
            "Epoch 6/10\n",
            "1563/1563 [==============================] - 6s 4ms/step - loss: 0.4157 - accuracy: 0.8528\n",
            "Epoch 7/10\n",
            "1563/1563 [==============================] - 6s 4ms/step - loss: 0.3878 - accuracy: 0.8632\n",
            "Epoch 8/10\n",
            "1563/1563 [==============================] - 6s 4ms/step - loss: 0.3686 - accuracy: 0.8685\n",
            "Epoch 9/10\n",
            "1563/1563 [==============================] - 6s 4ms/step - loss: 0.3473 - accuracy: 0.8763\n",
            "Epoch 10/10\n",
            "1563/1563 [==============================] - 6s 4ms/step - loss: 0.3257 - accuracy: 0.8828\n"
          ]
        },
        {
          "output_type": "execute_result",
          "data": {
            "text/plain": [
              "<keras.callbacks.History at 0x7db24c226020>"
            ]
          },
          "metadata": {},
          "execution_count": 19
        }
      ]
    },
    {
      "cell_type": "markdown",
      "source": [
        "# With CNN, at the end 5 epochs, accuracy was at around 70% which is a significant improvement over ANN. CNN's are best for image classification and gives superb accuracy. Also computation is much less compared to simple ANN as maxpooling reduces the image dimensions while still preserving the features"
      ],
      "metadata": {
        "id": "uuPDik55V6gq"
      }
    },
    {
      "cell_type": "code",
      "source": [
        "cnn.evaluate(X_test,y_test)"
      ],
      "metadata": {
        "colab": {
          "base_uri": "https://localhost:8080/"
        },
        "id": "Lr4jNwY8SHn2",
        "outputId": "7c98bd91-65d7-4bc2-e471-7e50d4d28a1a"
      },
      "execution_count": 20,
      "outputs": [
        {
          "output_type": "stream",
          "name": "stdout",
          "text": [
            "313/313 [==============================] - 1s 3ms/step - loss: 1.2843 - accuracy: 0.6803\n"
          ]
        },
        {
          "output_type": "execute_result",
          "data": {
            "text/plain": [
              "[1.2842830419540405, 0.6802999973297119]"
            ]
          },
          "metadata": {},
          "execution_count": 20
        }
      ]
    },
    {
      "cell_type": "code",
      "source": [
        "y_pred = cnn.predict(X_test)\n",
        "y_pred[:5]"
      ],
      "metadata": {
        "colab": {
          "base_uri": "https://localhost:8080/"
        },
        "id": "eS8X7PeTSHyi",
        "outputId": "bd2f7fae-0314-430e-eb77-89a07f1173cc"
      },
      "execution_count": 21,
      "outputs": [
        {
          "output_type": "stream",
          "name": "stdout",
          "text": [
            "313/313 [==============================] - 1s 2ms/step\n"
          ]
        },
        {
          "output_type": "execute_result",
          "data": {
            "text/plain": [
              "array([[1.96711426e-05, 2.24475230e-07, 1.05734638e-04, 9.94638741e-01,\n",
              "        4.78690254e-06, 4.29603970e-03, 8.78868275e-04, 7.58183472e-09,\n",
              "        1.78901228e-05, 3.79774829e-05],\n",
              "       [1.35148726e-02, 5.62740117e-02, 6.15630142e-06, 5.21647447e-10,\n",
              "        2.92333865e-13, 1.30791614e-10, 6.15712442e-15, 8.21841374e-14,\n",
              "        9.30203915e-01, 1.02177705e-06],\n",
              "       [3.00035477e-01, 2.05075607e-01, 1.80699606e-03, 1.84465444e-03,\n",
              "        5.05399890e-04, 1.01996749e-03, 1.21108369e-05, 7.66853191e-05,\n",
              "        3.67604226e-01, 1.22018814e-01],\n",
              "       [9.93312538e-01, 6.39288046e-05, 4.88669612e-04, 1.96136034e-06,\n",
              "        3.60648468e-04, 6.13622841e-09, 4.15596280e-10, 8.85697375e-07,\n",
              "        5.77144790e-03, 4.22472834e-10],\n",
              "       [1.49536911e-11, 2.14385267e-07, 9.17094294e-03, 4.02755613e-05,\n",
              "        5.84430806e-02, 2.30937826e-06, 9.32343006e-01, 1.43906111e-12,\n",
              "        2.66477713e-07, 1.22938909e-10]], dtype=float32)"
            ]
          },
          "metadata": {},
          "execution_count": 21
        }
      ]
    },
    {
      "cell_type": "code",
      "source": [
        "y_pred = cnn.predict(X_test)\n",
        "y_pred[:5]"
      ],
      "metadata": {
        "colab": {
          "base_uri": "https://localhost:8080/"
        },
        "id": "tO7nPUKsTX7f",
        "outputId": "587b1514-ec2a-4eee-9be9-0f9d656519d0"
      },
      "execution_count": 22,
      "outputs": [
        {
          "output_type": "stream",
          "name": "stdout",
          "text": [
            "313/313 [==============================] - 1s 2ms/step\n"
          ]
        },
        {
          "output_type": "execute_result",
          "data": {
            "text/plain": [
              "array([[1.96711426e-05, 2.24475230e-07, 1.05734638e-04, 9.94638741e-01,\n",
              "        4.78690254e-06, 4.29603970e-03, 8.78868275e-04, 7.58183472e-09,\n",
              "        1.78901228e-05, 3.79774829e-05],\n",
              "       [1.35148726e-02, 5.62740117e-02, 6.15630142e-06, 5.21647447e-10,\n",
              "        2.92333865e-13, 1.30791614e-10, 6.15712442e-15, 8.21841374e-14,\n",
              "        9.30203915e-01, 1.02177705e-06],\n",
              "       [3.00035477e-01, 2.05075607e-01, 1.80699606e-03, 1.84465444e-03,\n",
              "        5.05399890e-04, 1.01996749e-03, 1.21108369e-05, 7.66853191e-05,\n",
              "        3.67604226e-01, 1.22018814e-01],\n",
              "       [9.93312538e-01, 6.39288046e-05, 4.88669612e-04, 1.96136034e-06,\n",
              "        3.60648468e-04, 6.13622841e-09, 4.15596280e-10, 8.85697375e-07,\n",
              "        5.77144790e-03, 4.22472834e-10],\n",
              "       [1.49536911e-11, 2.14385267e-07, 9.17094294e-03, 4.02755613e-05,\n",
              "        5.84430806e-02, 2.30937826e-06, 9.32343006e-01, 1.43906111e-12,\n",
              "        2.66477713e-07, 1.22938909e-10]], dtype=float32)"
            ]
          },
          "metadata": {},
          "execution_count": 22
        }
      ]
    },
    {
      "cell_type": "code",
      "source": [
        "y_classes = [np.argmax(element) for element in y_pred]\n",
        "y_classes[:5]"
      ],
      "metadata": {
        "colab": {
          "base_uri": "https://localhost:8080/"
        },
        "id": "dzJKxfGBUUmO",
        "outputId": "49cc785d-6edc-4a40-8852-37f35f22dd4c"
      },
      "execution_count": 34,
      "outputs": [
        {
          "output_type": "execute_result",
          "data": {
            "text/plain": [
              "[3, 8, 8, 0, 6]"
            ]
          },
          "metadata": {},
          "execution_count": 34
        }
      ]
    },
    {
      "cell_type": "code",
      "source": [
        "y_test[:5]"
      ],
      "metadata": {
        "colab": {
          "base_uri": "https://localhost:8080/"
        },
        "id": "Fm8Qlxn1TYKw",
        "outputId": "16e0a136-922a-46b2-c6b0-5c056a4f2a9c"
      },
      "execution_count": 23,
      "outputs": [
        {
          "output_type": "execute_result",
          "data": {
            "text/plain": [
              "array([3, 8, 8, 0, 6], dtype=uint8)"
            ]
          },
          "metadata": {},
          "execution_count": 23
        }
      ]
    },
    {
      "cell_type": "code",
      "source": [
        "plot_sample(X_test, y_test,3)"
      ],
      "metadata": {
        "colab": {
          "base_uri": "https://localhost:8080/",
          "height": 237
        },
        "id": "n_BNt1U1TYnc",
        "outputId": "cd9db6d1-9093-4126-d878-935dd2e27086"
      },
      "execution_count": 24,
      "outputs": [
        {
          "output_type": "display_data",
          "data": {
            "text/plain": [
              "<Figure size 1500x200 with 1 Axes>"
            ],
            "image/png": "[encoded data removed]"
          },
          "metadata": {}
        }
      ]
    },
    {
      "cell_type": "code",
      "source": [
        "classes[y_classes[3]]"
      ],
      "metadata": {
        "colab": {
          "base_uri": "https://localhost:8080/",
          "height": 35
        },
        "id": "Mo3YvRfpTYwd",
        "outputId": "b399b1ab-0b50-4c34-89b3-563e613e6b42"
      },
      "execution_count": 29,
      "outputs": [
        {
          "output_type": "execute_result",
          "data": {
            "text/plain": [
              "'airplane'"
            ],
            "application/vnd.google.colaboratory.intrinsic+json": {
              "type": "string"
            }
          },
          "metadata": {},
          "execution_count": 29
        }
      ]
    },
    {
      "cell_type": "code",
      "source": [
        "classes[y_classes[3]]"
      ],
      "metadata": {
        "colab": {
          "base_uri": "https://localhost:8080/",
          "height": 35
        },
        "id": "AFPSsM-rTpAx",
        "outputId": "ba0b8514-24bb-40d7-d14f-49f902be1eec"
      },
      "execution_count": 31,
      "outputs": [
        {
          "output_type": "execute_result",
          "data": {
            "text/plain": [
              "'airplane'"
            ],
            "application/vnd.google.colaboratory.intrinsic+json": {
              "type": "string"
            }
          },
          "metadata": {},
          "execution_count": 31
        }
      ]
    }
  ]
}